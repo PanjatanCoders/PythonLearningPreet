{
 "cells": [
  {
   "cell_type": "code",
   "execution_count": 18,
   "id": "b4f54bef",
   "metadata": {},
   "outputs": [],
   "source": [
    "d1 = {\n",
    "    \"key1\": \"value1\",\n",
    "    \"key2\": \"value2\",\n",
    "    \"key3\": \"value3\",\n",
    "}\n",
    "\n",
    "d2 = {\n",
    "    \"key6\": \"value6\",\n",
    "    \"key5\": \"value5\",\n",
    "    \"key4\": \"value4\",\n",
    "}"
   ]
  },
  {
   "cell_type": "code",
   "execution_count": 19,
   "id": "da6706bf",
   "metadata": {},
   "outputs": [
    {
     "name": "stdout",
     "output_type": "stream",
     "text": [
      "{'key1': 'value1', 'key2': 'value2', 'key3': 'value3'} {'key6': 'value6', 'key5': 'value5', 'key4': 'value4'}\n"
     ]
    }
   ],
   "source": [
    "print(d1, d2)"
   ]
  },
  {
   "cell_type": "code",
   "execution_count": 20,
   "id": "2a010198",
   "metadata": {},
   "outputs": [
    {
     "data": {
      "text/plain": [
       "['key4', 'key5', 'key6']"
      ]
     },
     "execution_count": 20,
     "metadata": {},
     "output_type": "execute_result"
    }
   ],
   "source": [
    "k = sorted(d2) #return the keys in sorted\n",
    "k"
   ]
  },
  {
   "cell_type": "code",
   "execution_count": 21,
   "id": "cfd0f778",
   "metadata": {},
   "outputs": [
    {
     "data": {
      "text/plain": [
       "{'key4': 'value4', 'key5': 'value5', 'key6': 'value6'}"
      ]
     },
     "execution_count": 21,
     "metadata": {},
     "output_type": "execute_result"
    }
   ],
   "source": [
    "d4 ={}\n",
    "\n",
    "for i in k:\n",
    "    d4[i] = d2.get(i)\n",
    "\n",
    "d4"
   ]
  },
  {
   "cell_type": "code",
   "execution_count": 29,
   "id": "9559bf63",
   "metadata": {},
   "outputs": [
    {
     "name": "stdout",
     "output_type": "stream",
     "text": [
      "{'key1': 'value1', 'key2': 'value2', 'key3': 'value3'} {'key6': 'value6', 'key5': 'value5', 'key4': 'value4'}\n"
     ]
    }
   ],
   "source": [
    "print(d1, d2)"
   ]
  },
  {
   "cell_type": "code",
   "execution_count": 30,
   "id": "bc63d699",
   "metadata": {},
   "outputs": [
    {
     "data": {
      "text/plain": [
       "{'key1': 'value1',\n",
       " 'key2': 'value2',\n",
       " 'key3': 'value3',\n",
       " 'key6': 'value6',\n",
       " 'key5': 'value5',\n",
       " 'key4': 'value4'}"
      ]
     },
     "execution_count": 30,
     "metadata": {},
     "output_type": "execute_result"
    }
   ],
   "source": [
    "# update() which is used to combine to dictionary\n",
    "\n",
    "d1.update(d2)\n",
    "d1"
   ]
  },
  {
   "cell_type": "markdown",
   "id": "30aced1a",
   "metadata": {},
   "source": [
    "### Nested-dictionary"
   ]
  },
  {
   "cell_type": "code",
   "execution_count": 31,
   "id": "ace83b63",
   "metadata": {},
   "outputs": [],
   "source": [
    "employees = {\n",
    "    \"emp001\": {\n",
    "        \"name\": \"Alice\",\n",
    "        \"age\": 20,\n",
    "        \"designation\": \"Manager\"\n",
    "    },\n",
    "    \"emp002\": {\n",
    "        \"name\": \"Peter\",\n",
    "        \"age\": 24,\n",
    "        \"designation\": \"HR Manager\"\n",
    "    }\n",
    "}"
   ]
  },
  {
   "cell_type": "code",
   "execution_count": 32,
   "id": "756d32cc",
   "metadata": {},
   "outputs": [
    {
     "data": {
      "text/plain": [
       "{'emp001': {'name': 'Alice', 'age': 20, 'designation': 'Manager'},\n",
       " 'emp002': {'name': 'Peter', 'age': 24, 'designation': 'HR Manager'}}"
      ]
     },
     "execution_count": 32,
     "metadata": {},
     "output_type": "execute_result"
    }
   ],
   "source": [
    "employees"
   ]
  },
  {
   "cell_type": "code",
   "execution_count": 34,
   "id": "7a9919b4",
   "metadata": {},
   "outputs": [
    {
     "data": {
      "text/plain": [
       "24"
      ]
     },
     "execution_count": 34,
     "metadata": {},
     "output_type": "execute_result"
    }
   ],
   "source": [
    "employees[\"emp002\"][\"age\"]"
   ]
  },
  {
   "cell_type": "code",
   "execution_count": 35,
   "id": "bebd433a",
   "metadata": {},
   "outputs": [
    {
     "data": {
      "text/plain": [
       "24"
      ]
     },
     "execution_count": 35,
     "metadata": {},
     "output_type": "execute_result"
    }
   ],
   "source": [
    "employees.get(\"emp002\").get(\"age\")"
   ]
  },
  {
   "cell_type": "code",
   "execution_count": 37,
   "id": "1a720afb",
   "metadata": {},
   "outputs": [
    {
     "name": "stdout",
     "output_type": "stream",
     "text": [
      "{'key1': 'value1', 'key2': 'value2', 'key3': 'value3'} {'key6': 'value6', 'key5': 'value5', 'key4': 'value4'}\n"
     ]
    }
   ],
   "source": [
    "d1 = {'key1': 'value1', 'key2': 'value2', 'key3': 'value3'}\n",
    "print(d1, d2)"
   ]
  },
  {
   "cell_type": "code",
   "execution_count": 38,
   "id": "ac8e85d4",
   "metadata": {},
   "outputs": [
    {
     "data": {
      "text/plain": [
       "{'key1': 'value1',\n",
       " 'key2': 'value2',\n",
       " 'key3': 'value3',\n",
       " 'key6': 'value6',\n",
       " 'key5': 'value5',\n",
       " 'key4': 'value4'}"
      ]
     },
     "execution_count": 38,
     "metadata": {},
     "output_type": "execute_result"
    }
   ],
   "source": [
    "# combine two dictionary and store into a new dictionary\n",
    "new_dict = {**d1, **d2}\n",
    "new_dict"
   ]
  },
  {
   "cell_type": "code",
   "execution_count": 39,
   "id": "3a12e4b2",
   "metadata": {},
   "outputs": [
    {
     "data": {
      "text/plain": [
       "{'key1', 'key2', 'key3', 'key4', 'key5', 'key6'}"
      ]
     },
     "execution_count": 39,
     "metadata": {},
     "output_type": "execute_result"
    }
   ],
   "source": [
    "result = {*d1, *d2}\n",
    "result"
   ]
  },
  {
   "cell_type": "code",
   "execution_count": 42,
   "id": "74bc7c42",
   "metadata": {},
   "outputs": [
    {
     "data": {
      "text/plain": [
       "[('a', 10), ('d', 23), ('h', 20)]"
      ]
     },
     "execution_count": 42,
     "metadata": {},
     "output_type": "execute_result"
    }
   ],
   "source": [
    "d = {\"a\": 10, \"h\": 20, \"d\":23}\n",
    "ds = sorted(d.items(), reverse=False)\n",
    "ds"
   ]
  },
  {
   "cell_type": "code",
   "execution_count": 44,
   "id": "5509d156",
   "metadata": {},
   "outputs": [
    {
     "data": {
      "text/plain": [
       "{12: None, 13: None, 14: None, 15: None, 2: None, 5: None}"
      ]
     },
     "execution_count": 44,
     "metadata": {},
     "output_type": "execute_result"
    }
   ],
   "source": [
    "# create a dictionary from a list of items with a fixed value.\n",
    "l = [12, 13, 14, 15, 2, 5]\n",
    "d = dict.fromkeys(l)\n",
    "d"
   ]
  },
  {
   "cell_type": "code",
   "execution_count": 45,
   "id": "6dc311ca",
   "metadata": {},
   "outputs": [
    {
     "data": {
      "text/plain": [
       "{12: 'Python',\n",
       " 13: 'Python',\n",
       " 14: 'Python',\n",
       " 15: 'Python',\n",
       " 2: 'Python',\n",
       " 5: 'Python'}"
      ]
     },
     "execution_count": 45,
     "metadata": {},
     "output_type": "execute_result"
    }
   ],
   "source": [
    "d = dict.fromkeys(l, \"Python\")\n",
    "d"
   ]
  },
  {
   "cell_type": "markdown",
   "id": "4d78fd9e",
   "metadata": {},
   "source": [
    "## Functions in Python"
   ]
  },
  {
   "cell_type": "code",
   "execution_count": null,
   "id": "b8fd16ba",
   "metadata": {},
   "outputs": [],
   "source": [
    "def abc():\n",
    "    ''' \n",
    "        this is the are for doc-string\n",
    "        this is a sample function\n",
    "    '''\n",
    "    pass  #stub"
   ]
  },
  {
   "cell_type": "code",
   "execution_count": 51,
   "id": "37018251",
   "metadata": {},
   "outputs": [],
   "source": [
    "abc()"
   ]
  },
  {
   "cell_type": "code",
   "execution_count": 53,
   "id": "b7f5bc19",
   "metadata": {},
   "outputs": [
    {
     "name": "stdout",
     "output_type": "stream",
     "text": [
      "hello\n"
     ]
    }
   ],
   "source": [
    "def my_func():\n",
    "    print(\"hello\")\n",
    "    \n",
    "\n",
    "my_func()"
   ]
  }
 ],
 "metadata": {
  "kernelspec": {
   "display_name": ".venv",
   "language": "python",
   "name": "python3"
  },
  "language_info": {
   "codemirror_mode": {
    "name": "ipython",
    "version": 3
   },
   "file_extension": ".py",
   "mimetype": "text/x-python",
   "name": "python",
   "nbconvert_exporter": "python",
   "pygments_lexer": "ipython3",
   "version": "3.13.3"
  }
 },
 "nbformat": 4,
 "nbformat_minor": 5
}
