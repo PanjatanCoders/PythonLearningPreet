{
 "cells": [
  {
   "cell_type": "code",
   "execution_count": 12,
   "id": "7b3e47c2",
   "metadata": {},
   "outputs": [],
   "source": [
    "s = \"Python\""
   ]
  },
  {
   "cell_type": "code",
   "execution_count": 13,
   "id": "de8ee6d8",
   "metadata": {},
   "outputs": [
    {
     "name": "stdout",
     "output_type": "stream",
     "text": [
      "Python 1782833942416\n"
     ]
    }
   ],
   "source": [
    "print(s, id(s))"
   ]
  },
  {
   "cell_type": "code",
   "execution_count": 14,
   "id": "588a0a21",
   "metadata": {},
   "outputs": [],
   "source": [
    "s = s + \" Coding\""
   ]
  },
  {
   "cell_type": "code",
   "execution_count": 15,
   "id": "1158fb79",
   "metadata": {},
   "outputs": [
    {
     "name": "stdout",
     "output_type": "stream",
     "text": [
      "Python Coding 1782930351984\n"
     ]
    }
   ],
   "source": [
    "print(s, id(s))"
   ]
  },
  {
   "cell_type": "code",
   "execution_count": 17,
   "id": "1abc97e8",
   "metadata": {},
   "outputs": [
    {
     "name": "stdout",
     "output_type": "stream",
     "text": [
      "Java Coding 1782930541744\n"
     ]
    }
   ],
   "source": [
    "s = \"Java\" + \" Coding\"\n",
    "print(s, id(s))"
   ]
  },
  {
   "cell_type": "code",
   "execution_count": 18,
   "id": "69ee01e0",
   "metadata": {},
   "outputs": [
    {
     "name": "stdout",
     "output_type": "stream",
     "text": [
      "Python 1782833942416\n"
     ]
    }
   ],
   "source": [
    "p = \"Python\"\n",
    "print(p, id(p))"
   ]
  },
  {
   "cell_type": "markdown",
   "id": "b4e411eb",
   "metadata": {},
   "source": [
    "## List in Python"
   ]
  },
  {
   "cell_type": "code",
   "execution_count": 19,
   "id": "bba55ff7",
   "metadata": {},
   "outputs": [],
   "source": [
    "l = []"
   ]
  },
  {
   "cell_type": "code",
   "execution_count": 20,
   "id": "e268fefb",
   "metadata": {},
   "outputs": [
    {
     "data": {
      "text/plain": [
       "list"
      ]
     },
     "execution_count": 20,
     "metadata": {},
     "output_type": "execute_result"
    }
   ],
   "source": [
    "type(l)"
   ]
  },
  {
   "cell_type": "code",
   "execution_count": 21,
   "id": "1ced13e7",
   "metadata": {},
   "outputs": [],
   "source": [
    "l = [\"Apple\", \"Banana\", \"Guava\"]"
   ]
  },
  {
   "cell_type": "code",
   "execution_count": 22,
   "id": "bfe244c2",
   "metadata": {},
   "outputs": [
    {
     "name": "stdout",
     "output_type": "stream",
     "text": [
      "['Apple', 'Banana', 'Guava']\n"
     ]
    }
   ],
   "source": [
    "print(l)"
   ]
  },
  {
   "cell_type": "code",
   "execution_count": 23,
   "id": "9e1c8913",
   "metadata": {},
   "outputs": [
    {
     "name": "stdout",
     "output_type": "stream",
     "text": [
      "Apple\n"
     ]
    }
   ],
   "source": [
    "print(l[0])"
   ]
  },
  {
   "cell_type": "code",
   "execution_count": 24,
   "id": "ae37b088",
   "metadata": {},
   "outputs": [
    {
     "name": "stdout",
     "output_type": "stream",
     "text": [
      "Guava\n"
     ]
    }
   ],
   "source": [
    "print(l[2])"
   ]
  },
  {
   "cell_type": "code",
   "execution_count": 25,
   "id": "946fd012",
   "metadata": {},
   "outputs": [
    {
     "name": "stdout",
     "output_type": "stream",
     "text": [
      "[1, 2, 3, 4, 5, 6, 7, 8, 9]\n"
     ]
    }
   ],
   "source": [
    "l = [1, 2, 3, 4, 5, 6, 7, 8, 9]\n",
    "print(l)"
   ]
  },
  {
   "cell_type": "code",
   "execution_count": null,
   "id": "6aeef676",
   "metadata": {},
   "outputs": [
    {
     "name": "stdout",
     "output_type": "stream",
     "text": [
      "top 3 items: [1, 2, 3]\n",
      "top 3 items: [1, 2, 3]\n",
      "last 3 items: [7, 8, 9]\n",
      "last 3 items: [7, 8, 9]\n"
     ]
    }
   ],
   "source": [
    "print(f'top 3 items: {l[0:3]}')\n",
    "print(f'top 3 items: {l[:3]}')\n",
    "\n",
    "print(f'last 3 items: {l[6:9]}')\n",
    "print(f'last 3 items: {l[6:]}')"
   ]
  },
  {
   "cell_type": "code",
   "execution_count": 31,
   "id": "45b90500",
   "metadata": {},
   "outputs": [
    {
     "name": "stdout",
     "output_type": "stream",
     "text": [
      "8\n"
     ]
    }
   ],
   "source": [
    "print(l[-2])"
   ]
  },
  {
   "cell_type": "code",
   "execution_count": 32,
   "id": "39d4fb2a",
   "metadata": {},
   "outputs": [
    {
     "data": {
      "text/plain": [
       "[1, 2, 3, 4, 5, 6, 7, 8, 9]"
      ]
     },
     "execution_count": 32,
     "metadata": {},
     "output_type": "execute_result"
    }
   ],
   "source": [
    "l"
   ]
  },
  {
   "cell_type": "code",
   "execution_count": 34,
   "id": "3d1f426f",
   "metadata": {},
   "outputs": [
    {
     "name": "stdout",
     "output_type": "stream",
     "text": [
      "[7, 8, 9]\n"
     ]
    }
   ],
   "source": [
    "print(l[-3:])"
   ]
  },
  {
   "cell_type": "code",
   "execution_count": 35,
   "id": "b18cb119",
   "metadata": {},
   "outputs": [
    {
     "name": "stdout",
     "output_type": "stream",
     "text": [
      "[1, 2, 3, 4, 5, 6, 7, 8, 9, 15]\n"
     ]
    }
   ],
   "source": [
    "l.append(15)\n",
    "print(l)"
   ]
  },
  {
   "cell_type": "code",
   "execution_count": 36,
   "id": "18dd5327",
   "metadata": {},
   "outputs": [
    {
     "name": "stdout",
     "output_type": "stream",
     "text": [
      "[1, 2, 3, 4, 5, 6, 7, 8, 9, 15, 12]\n"
     ]
    }
   ],
   "source": [
    "l.append(12)\n",
    "print(l)"
   ]
  },
  {
   "cell_type": "code",
   "execution_count": 37,
   "id": "06ebc76d",
   "metadata": {},
   "outputs": [
    {
     "name": "stdout",
     "output_type": "stream",
     "text": [
      "[1, 2, 3, 4, 5, 6, 7, 8, 9, 15]\n"
     ]
    }
   ],
   "source": [
    "l.pop()\n",
    "print(l)"
   ]
  },
  {
   "cell_type": "code",
   "execution_count": 38,
   "id": "cdd6174a",
   "metadata": {},
   "outputs": [
    {
     "name": "stdout",
     "output_type": "stream",
     "text": [
      "[1, 2, 3, 5, 6, 7, 8, 9, 15]\n"
     ]
    }
   ],
   "source": [
    "l.remove(4)\n",
    "print(l)"
   ]
  },
  {
   "cell_type": "code",
   "execution_count": 40,
   "id": "7796e05d",
   "metadata": {},
   "outputs": [
    {
     "name": "stdout",
     "output_type": "stream",
     "text": [
      "[1, 3, 5, 6, 7, 8, 9, 15]\n"
     ]
    }
   ],
   "source": [
    "l.remove(2)\n",
    "print(l)"
   ]
  },
  {
   "cell_type": "code",
   "execution_count": 41,
   "id": "ebf0f2cb",
   "metadata": {},
   "outputs": [
    {
     "name": "stdout",
     "output_type": "stream",
     "text": [
      "[1, 3, 5, 6, 7, 8, 9, 15, 23, 25]\n"
     ]
    }
   ],
   "source": [
    "l.extend([23, 25])\n",
    "print(l)"
   ]
  },
  {
   "cell_type": "code",
   "execution_count": 42,
   "id": "2805e1a9",
   "metadata": {},
   "outputs": [
    {
     "name": "stdout",
     "output_type": "stream",
     "text": [
      "[1, 3, 5, 0, 6, 7, 8, 9, 15, 23, 25]\n"
     ]
    }
   ],
   "source": [
    "l.insert(3, 0)\n",
    "print(l)"
   ]
  },
  {
   "cell_type": "code",
   "execution_count": 43,
   "id": "9e7973c3",
   "metadata": {},
   "outputs": [
    {
     "name": "stdout",
     "output_type": "stream",
     "text": [
      "1\n",
      "3\n",
      "5\n",
      "0\n",
      "6\n",
      "7\n",
      "8\n",
      "9\n",
      "15\n",
      "23\n",
      "25\n"
     ]
    }
   ],
   "source": [
    "for i in l:\n",
    "    print(i)"
   ]
  }
 ],
 "metadata": {
  "kernelspec": {
   "display_name": ".venv",
   "language": "python",
   "name": "python3"
  },
  "language_info": {
   "codemirror_mode": {
    "name": "ipython",
    "version": 3
   },
   "file_extension": ".py",
   "mimetype": "text/x-python",
   "name": "python",
   "nbconvert_exporter": "python",
   "pygments_lexer": "ipython3",
   "version": "3.13.3"
  }
 },
 "nbformat": 4,
 "nbformat_minor": 5
}
