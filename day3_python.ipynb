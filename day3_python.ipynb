{
 "cells": [
  {
   "cell_type": "markdown",
   "id": "49fc51f5",
   "metadata": {},
   "source": [
    "## Conditional Statement"
   ]
  },
  {
   "cell_type": "code",
   "execution_count": null,
   "id": "0e78bb4e",
   "metadata": {},
   "outputs": [
    {
     "name": "stdout",
     "output_type": "stream",
     "text": [
      "You are adult\n",
      "Completed\n"
     ]
    }
   ],
   "source": [
    "age = 20\n",
    "\n",
    "# if, elif, else\n",
    "if age > 18:\n",
    "    print('You are adult')\n",
    "\n",
    "\n",
    "print('Completed')"
   ]
  },
  {
   "cell_type": "code",
   "execution_count": null,
   "id": "0d1826cb",
   "metadata": {},
   "outputs": [
    {
     "name": "stdout",
     "output_type": "stream",
     "text": [
      "You are minor\n",
      "Completed\n"
     ]
    }
   ],
   "source": [
    "age = 15\n",
    "if age > 18:\n",
    "    print('You are adult')\n",
    "else:\n",
    "    print('You are minor')\n",
    "\n",
    "print('Completed')"
   ]
  },
  {
   "cell_type": "code",
   "execution_count": null,
   "id": "9fc241b1",
   "metadata": {},
   "outputs": [
    {
     "name": "stdout",
     "output_type": "stream",
     "text": [
      "F\n"
     ]
    }
   ],
   "source": [
    "marks = 20\n",
    "\n",
    "if marks >= 90:\n",
    "    grade = \"A+\"\n",
    "elif marks >=80:\n",
    "    grade = \"A\"\n",
    "elif marks >= 60:\n",
    "    grade = \"B\"\n",
    "elif marks >= 30:\n",
    "    grade = \"C\"\n",
    "else:\n",
    "    grade = \"F\"\n",
    "\n",
    "print(grade)"
   ]
  },
  {
   "cell_type": "code",
   "execution_count": null,
   "id": "afcfa15f",
   "metadata": {},
   "outputs": [
    {
     "name": "stdout",
     "output_type": "stream",
     "text": [
      "Adult\n"
     ]
    }
   ],
   "source": [
    "#Nested if-elif\n",
    "\n",
    "age = 40\n",
    "if age > 18:\n",
    "    if age > 60:\n",
    "        print('Senior Citizen')\n",
    "    else:\n",
    "        print(\"Adult\")\n",
    "else:\n",
    "    print('Minor')"
   ]
  },
  {
   "cell_type": "markdown",
   "id": "5c237958",
   "metadata": {},
   "source": [
    "## Loops in Python"
   ]
  },
  {
   "cell_type": "code",
   "execution_count": null,
   "id": "29d05723",
   "metadata": {},
   "outputs": [
    {
     "name": "stdout",
     "output_type": "stream",
     "text": [
      "0\n",
      "1\n",
      "2\n",
      "3\n",
      "4\n",
      "5\n",
      "6\n",
      "7\n",
      "8\n",
      "9\n",
      "10\n"
     ]
    }
   ],
   "source": [
    "for i in range(0, 11):\n",
    "    print(i)"
   ]
  },
  {
   "cell_type": "code",
   "execution_count": null,
   "id": "00d46a1a",
   "metadata": {},
   "outputs": [
    {
     "name": "stdout",
     "output_type": "stream",
     "text": [
      "0 0\n",
      "0 1\n",
      "0 2\n",
      "1 0\n",
      "1 1\n",
      "1 2\n",
      "2 0\n",
      "2 1\n",
      "2 2\n",
      "3 0\n",
      "3 1\n",
      "3 2\n",
      "4 0\n",
      "4 1\n",
      "4 2\n"
     ]
    }
   ],
   "source": [
    "#Nested for loop\n",
    "for i in range(0, 5):\n",
    "    for j in range(0, 3):\n",
    "        print(i, j)"
   ]
  },
  {
   "cell_type": "code",
   "execution_count": null,
   "id": "b3bb1a7f",
   "metadata": {},
   "outputs": [
    {
     "name": "stdout",
     "output_type": "stream",
     "text": [
      "0 0 0\n",
      "0 0 1\n",
      "0 1 0\n",
      "0 1 1\n",
      "0 2 0\n",
      "0 2 1\n",
      "1 0 0\n",
      "1 0 1\n",
      "1 1 0\n",
      "1 1 1\n",
      "1 2 0\n",
      "1 2 1\n",
      "2 0 0\n",
      "2 0 1\n",
      "2 1 0\n",
      "2 1 1\n",
      "2 2 0\n",
      "2 2 1\n",
      "3 0 0\n",
      "3 0 1\n",
      "3 1 0\n",
      "3 1 1\n",
      "3 2 0\n",
      "3 2 1\n",
      "4 0 0\n",
      "4 0 1\n",
      "4 1 0\n",
      "4 1 1\n",
      "4 2 0\n",
      "4 2 1\n"
     ]
    }
   ],
   "source": [
    "for i in range(0, 5):\n",
    "    for j in range(0, 3):\n",
    "        for k in range(0, 2):\n",
    "            print(i, j, k)"
   ]
  },
  {
   "cell_type": "markdown",
   "id": "185cd6fd",
   "metadata": {},
   "source": [
    "## While Loop in Python "
   ]
  },
  {
   "cell_type": "code",
   "execution_count": null,
   "id": "3171dabf",
   "metadata": {},
   "outputs": [
    {
     "name": "stdout",
     "output_type": "stream",
     "text": [
      "0\n",
      "1\n",
      "2\n",
      "3\n",
      "4\n",
      "5\n",
      "6\n",
      "7\n",
      "8\n",
      "9\n",
      "10\n"
     ]
    }
   ],
   "source": [
    "x = 0\n",
    "\n",
    "while x <= 10:\n",
    "    print(x)\n",
    "    x += 1"
   ]
  },
  {
   "cell_type": "code",
   "execution_count": null,
   "id": "59ddac29",
   "metadata": {},
   "outputs": [],
   "source": [
    "# Factor, factorial\n",
    "# 20: 1, 2, 4, 5, 10, 20\n",
    "# Factorial of a num: 5 = 5 * 4 * 3 * 2 * 1 = 120\n",
    "# n! = n*n-1*n-2*.....*1\n",
    "8! = 8*7*6*5*4*3*2*1"
   ]
  },
  {
   "cell_type": "code",
   "execution_count": 20,
   "id": "ad6a5b4d",
   "metadata": {},
   "outputs": [
    {
     "name": "stdout",
     "output_type": "stream",
     "text": [
      "40320\n"
     ]
    }
   ],
   "source": [
    "num = 8\n",
    "result = 1\n",
    "while num > 0:\n",
    "    result = num * result\n",
    "    num -= 1\n",
    "print(result)"
   ]
  },
  {
   "cell_type": "markdown",
   "id": "ff1de5e9",
   "metadata": {},
   "source": [
    "### Break & Continue"
   ]
  },
  {
   "cell_type": "code",
   "execution_count": 21,
   "id": "9e341f70",
   "metadata": {},
   "outputs": [
    {
     "name": "stdout",
     "output_type": "stream",
     "text": [
      "0\n",
      "1\n",
      "2\n",
      "3\n",
      "4\n",
      "5\n",
      "7\n",
      "8\n",
      "9\n"
     ]
    }
   ],
   "source": [
    "for a in range(0, 10):\n",
    "    if a == 6:\n",
    "        continue\n",
    "    print(a)"
   ]
  },
  {
   "cell_type": "code",
   "execution_count": 22,
   "id": "d1859a62",
   "metadata": {},
   "outputs": [
    {
     "name": "stdout",
     "output_type": "stream",
     "text": [
      "0\n",
      "1\n",
      "2\n",
      "3\n",
      "4\n",
      "5\n",
      "Loop completed\n"
     ]
    }
   ],
   "source": [
    "for a in range(0, 10):\n",
    "    if a == 6:\n",
    "        break\n",
    "    print(a)\n",
    "print(\"Loop completed\")"
   ]
  },
  {
   "cell_type": "code",
   "execution_count": 26,
   "id": "b41c3332",
   "metadata": {},
   "outputs": [
    {
     "name": "stdout",
     "output_type": "stream",
     "text": [
      "10\n",
      "11\n",
      "12\n",
      "14\n",
      "15\n",
      "16\n",
      "17\n",
      "18\n",
      "19\n",
      "20\n"
     ]
    }
   ],
   "source": [
    "a = 10\n",
    "while a <= 20:\n",
    "    if a == 13:\n",
    "        a += 1\n",
    "        continue\n",
    "    print(a)\n",
    "    a += 1"
   ]
  }
 ],
 "metadata": {
  "kernelspec": {
   "display_name": ".venv",
   "language": "python",
   "name": "python3"
  },
  "language_info": {
   "codemirror_mode": {
    "name": "ipython",
    "version": 3
   },
   "file_extension": ".py",
   "mimetype": "text/x-python",
   "name": "python",
   "nbconvert_exporter": "python",
   "pygments_lexer": "ipython3",
   "version": "3.13.3"
  }
 },
 "nbformat": 4,
 "nbformat_minor": 5
}
