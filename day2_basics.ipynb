{
 "cells": [
  {
   "metadata": {},
   "cell_type": "markdown",
   "source": [
    "### Print in Python\n",
    " - print() is a in-built function in python which is\n",
    "used to print data in console"
   ],
   "id": "44dce1b627feeae4"
  },
  {
   "cell_type": "code",
   "id": "initial_id",
   "metadata": {
    "collapsed": true,
    "ExecuteTime": {
     "end_time": "2025-08-12T17:04:50.035927Z",
     "start_time": "2025-08-12T17:04:50.031014Z"
    }
   },
   "source": [
    "#basic\n",
    "print('Hello World')"
   ],
   "outputs": [
    {
     "name": "stdout",
     "output_type": "stream",
     "text": [
      "Hello World\n"
     ]
    }
   ],
   "execution_count": 1
  },
  {
   "metadata": {
    "ExecuteTime": {
     "end_time": "2025-08-12T17:05:32.991198Z",
     "start_time": "2025-08-12T17:05:32.985404Z"
    }
   },
   "cell_type": "code",
   "source": [
    "print('Hello')\n",
    "print('Welcome to Python Tutorial')"
   ],
   "id": "f70b889581d9692d",
   "outputs": [
    {
     "name": "stdout",
     "output_type": "stream",
     "text": [
      "Hello\n",
      "Welcome to Python Tutorial\n"
     ]
    }
   ],
   "execution_count": 2
  },
  {
   "metadata": {
    "ExecuteTime": {
     "end_time": "2025-08-12T17:07:06.078699Z",
     "start_time": "2025-08-12T17:07:06.072383Z"
    }
   },
   "cell_type": "code",
   "source": [
    "print('Hello', end= ' ')\n",
    "print('Welcome to Python Tutorial', end= ' ')\n",
    "print('Happy Learning')"
   ],
   "id": "bdf4898bc3355836",
   "outputs": [
    {
     "name": "stdout",
     "output_type": "stream",
     "text": [
      "Hello Welcome to Python Tutorial Happy Learning\n"
     ]
    }
   ],
   "execution_count": 5
  },
  {
   "metadata": {
    "ExecuteTime": {
     "end_time": "2025-08-12T17:08:46.334405Z",
     "start_time": "2025-08-12T17:08:46.329008Z"
    }
   },
   "cell_type": "code",
   "source": [
    "a = 'Bob'\n",
    "b = 20\n",
    "print(a, b, 'Helo', sep='-')"
   ],
   "id": "58cffadd365ce357",
   "outputs": [
    {
     "name": "stdout",
     "output_type": "stream",
     "text": [
      "Bob-20-Helo\n"
     ]
    }
   ],
   "execution_count": 8
  },
  {
   "metadata": {},
   "cell_type": "markdown",
   "source": [
    "#### f-String\n",
    "- formatted String"
   ],
   "id": "b3212c362fa7c8f2"
  },
  {
   "metadata": {
    "ExecuteTime": {
     "end_time": "2025-08-12T17:12:31.085096Z",
     "start_time": "2025-08-12T17:12:31.079042Z"
    }
   },
   "cell_type": "code",
   "source": [
    "name = 'Alice'\n",
    "age = 20\n",
    "# Hello, Alice. Your age is 20\n",
    "s = 'Hello, ' + name + '.' ' Your age is ' + str(age)\n",
    "print(s)"
   ],
   "id": "238e8b02b982a25a",
   "outputs": [
    {
     "name": "stdout",
     "output_type": "stream",
     "text": [
      "Hello, Alice. Your age is 20\n"
     ]
    }
   ],
   "execution_count": 12
  },
  {
   "metadata": {
    "ExecuteTime": {
     "end_time": "2025-08-12T17:14:30.768400Z",
     "start_time": "2025-08-12T17:14:30.763314Z"
    }
   },
   "cell_type": "code",
   "source": [
    "s1 = 'Hello, {}. Your age is {}'.format(name, age)\n",
    "print(s1)"
   ],
   "id": "fecb7a95a720b8f6",
   "outputs": [
    {
     "name": "stdout",
     "output_type": "stream",
     "text": [
      "Hello, Alice. Your age is 20\n"
     ]
    }
   ],
   "execution_count": 15
  },
  {
   "metadata": {
    "ExecuteTime": {
     "end_time": "2025-08-12T17:18:45.591839Z",
     "start_time": "2025-08-12T17:18:45.587087Z"
    }
   },
   "cell_type": "code",
   "source": [
    "# f-string approach\n",
    "s2 = f'Hello, {name}. Your age is {age}'\n",
    "print(s2)"
   ],
   "id": "598cc090807505e7",
   "outputs": [
    {
     "name": "stdout",
     "output_type": "stream",
     "text": [
      "Hello, Alice. Your age is 20\n"
     ]
    }
   ],
   "execution_count": 16
  },
  {
   "metadata": {},
   "cell_type": "markdown",
   "source": "### Operators in Python",
   "id": "33269fcbd637622d"
  },
  {
   "metadata": {
    "ExecuteTime": {
     "end_time": "2025-08-12T17:20:59.797669Z",
     "start_time": "2025-08-12T17:20:59.791363Z"
    }
   },
   "cell_type": "code",
   "source": [
    "# Arithmatic Operators\n",
    "a = 10\n",
    "b = 3\n",
    "print(\"Arithmetic Operators:\")\n",
    "print(f\"Addition: {a} + {b} = {a + b}\")\n",
    "print(f\"Subtraction: {a} - {b} = {a - b}\")\n",
    "print(f\"Multiplication: {a} * {b} = {a * b}\")\n",
    "print(f\"Division: {a} / {b} = {a / b}\")\n",
    "print(f\"Floor Division: {a} // {b} = {a // b}\")\n",
    "print(f\"Modulus: {a} % {b} = {a % b}\")\n",
    "print(f\"Exponent: {a} ** {b} = {a ** b}\")"
   ],
   "id": "fd465e35dac13105",
   "outputs": [
    {
     "name": "stdout",
     "output_type": "stream",
     "text": [
      "Arithmetic Operators:\n",
      "Addition: 10 + 3 = 13\n",
      "Subtraction: 10 - 3 = 7\n",
      "Multiplication: 10 * 3 = 30\n",
      "Division: 10 / 3 = 3.3333333333333335\n",
      "Floor Division: 10 // 3 = 3\n",
      "Modulus: 10 % 3 = 1\n",
      "Exponent: 10 ** 3 = 1000\n"
     ]
    }
   ],
   "execution_count": 17
  },
  {
   "metadata": {
    "ExecuteTime": {
     "end_time": "2025-08-12T17:25:03.788165Z",
     "start_time": "2025-08-12T17:25:03.782421Z"
    }
   },
   "cell_type": "code",
   "source": [
    "a = 20\n",
    "b = 3\n",
    "print(a/b)\n",
    "print(a // b)"
   ],
   "id": "f82a3058c1285326",
   "outputs": [
    {
     "name": "stdout",
     "output_type": "stream",
     "text": [
      "6.666666666666667\n",
      "6\n"
     ]
    }
   ],
   "execution_count": 20
  },
  {
   "metadata": {
    "ExecuteTime": {
     "end_time": "2025-08-12T17:25:55.152459Z",
     "start_time": "2025-08-12T17:25:55.144760Z"
    }
   },
   "cell_type": "code",
   "source": [
    "x = 15\n",
    "y = 10\n",
    "\n",
    "print(\"Comparison Operators:\")\n",
    "print(f\"{x} == {y}: {x == y}\")  # Equal to\n",
    "print(f\"{x} != {y}: {x != y}\")  # Not equal to\n",
    "print(f\"{x} > {y}: {x > y}\")    # Greater than\n",
    "print(f\"{x} < {y}: {x < y}\")    # Less than\n",
    "print(f\"{x} >= {y}: {x >= y}\")  # Greater than or equal\n",
    "print(f\"{x} <= {y}: {x <= y}\")  # Less than or equal"
   ],
   "id": "d322c9b7f84e02ff",
   "outputs": [
    {
     "name": "stdout",
     "output_type": "stream",
     "text": [
      "Comparison Operators:\n",
      "15 == 10: False\n",
      "15 != 10: True\n",
      "15 > 10: True\n",
      "15 < 10: False\n",
      "15 >= 10: True\n",
      "15 <= 10: False\n"
     ]
    }
   ],
   "execution_count": 21
  },
  {
   "metadata": {},
   "cell_type": "markdown",
   "source": [
    "### Logical Operators\n",
    "- It always result in True/False"
   ],
   "id": "2a097dda10942354"
  },
  {
   "metadata": {
    "ExecuteTime": {
     "end_time": "2025-08-12T17:28:57.211847Z",
     "start_time": "2025-08-12T17:28:57.205993Z"
    }
   },
   "cell_type": "code",
   "source": [
    "p = True\n",
    "q = False\n",
    "\n",
    "print(\"Logical Operators:\")\n",
    "print(f\"p and q: {p and q}\")    # Logical AND\n",
    "print(f\"p or q: {p or q}\")      # Logical OR\n",
    "print(f\"not p: {not p}\")        # Logical NOT"
   ],
   "id": "6ac7a00c002613fa",
   "outputs": [
    {
     "name": "stdout",
     "output_type": "stream",
     "text": [
      "Logical Operators:\n",
      "p and q: False\n",
      "p or q: True\n",
      "not p: False\n"
     ]
    }
   ],
   "execution_count": 22
  },
  {
   "metadata": {
    "ExecuteTime": {
     "end_time": "2025-08-12T17:44:21.522596Z",
     "start_time": "2025-08-12T17:44:21.515110Z"
    }
   },
   "cell_type": "code",
   "source": [
    "p = True\n",
    "q = False\n",
    "\n",
    "print(\"p and q:\", p and q)    # Logical AND\n",
    "print(\"p or q:\", p or q)      # Logical OR\n",
    "print(\"not p:\", p)"
   ],
   "id": "fcdee28eb8c9fee3",
   "outputs": [
    {
     "name": "stdout",
     "output_type": "stream",
     "text": [
      "p and q: False\n",
      "p or q: True\n",
      "not p: True\n"
     ]
    }
   ],
   "execution_count": 26
  },
  {
   "metadata": {
    "ExecuteTime": {
     "end_time": "2025-08-12T17:45:16.227210Z",
     "start_time": "2025-08-12T17:45:16.222403Z"
    }
   },
   "cell_type": "code",
   "source": [
    "p = True\n",
    "q = False\n",
    "\n",
    "print(\"p and q:\", p & q)    # Logical AND\n",
    "print(\"p or q:\", p | q)      # Logical OR\n",
    "# print(\"not p:\", p)"
   ],
   "id": "72200d049c940cdc",
   "outputs": [
    {
     "name": "stdout",
     "output_type": "stream",
     "text": [
      "p and q: False\n",
      "p or q: True\n"
     ]
    }
   ],
   "execution_count": 29
  },
  {
   "metadata": {
    "ExecuteTime": {
     "end_time": "2025-08-12T17:47:00.068724Z",
     "start_time": "2025-08-12T17:47:00.063388Z"
    }
   },
   "cell_type": "code",
   "source": "(True & True) | False",
   "id": "537ae956ccb7b3d8",
   "outputs": [
    {
     "data": {
      "text/plain": [
       "True"
      ]
     },
     "execution_count": 32,
     "metadata": {},
     "output_type": "execute_result"
    }
   ],
   "execution_count": 32
  },
  {
   "metadata": {
    "ExecuteTime": {
     "end_time": "2025-08-12T17:47:41.629643Z",
     "start_time": "2025-08-12T17:47:41.622696Z"
    }
   },
   "cell_type": "code",
   "source": "True & (True & False)",
   "id": "892587c091a0812e",
   "outputs": [
    {
     "data": {
      "text/plain": [
       "False"
      ]
     },
     "execution_count": 34,
     "metadata": {},
     "output_type": "execute_result"
    }
   ],
   "execution_count": 34
  },
  {
   "metadata": {},
   "cell_type": "markdown",
   "source": "#### Assignement Operator",
   "id": "15b2afa6462bfe6f"
  },
  {
   "metadata": {
    "ExecuteTime": {
     "end_time": "2025-08-12T17:51:56.156605Z",
     "start_time": "2025-08-12T17:51:56.151607Z"
    }
   },
   "cell_type": "code",
   "source": [
    "# Basic assignment\n",
    "a = 10 #a: Variable name, =: equals operator, 10 : is a value\n",
    "print(f\"Initial value:\")\n",
    "print()"
   ],
   "id": "a66682b87f57676",
   "outputs": [
    {
     "name": "stdout",
     "output_type": "stream",
     "text": [
      "Initial value:\n"
     ]
    }
   ],
   "execution_count": 39
  },
  {
   "metadata": {},
   "cell_type": "markdown",
   "source": "### Conditional Statement",
   "id": "8e1a594f43494742"
  },
  {
   "metadata": {
    "ExecuteTime": {
     "end_time": "2025-08-12T17:51:57.936461Z",
     "start_time": "2025-08-12T17:51:57.929984Z"
    }
   },
   "cell_type": "code",
   "source": [
    "a += 2 # similar to a = a +2\n",
    "a"
   ],
   "id": "e5d49acd8eadb691",
   "outputs": [
    {
     "data": {
      "text/plain": [
       "12"
      ]
     },
     "execution_count": 40,
     "metadata": {},
     "output_type": "execute_result"
    }
   ],
   "execution_count": 40
  },
  {
   "metadata": {
    "ExecuteTime": {
     "end_time": "2025-08-12T17:52:41.521702Z",
     "start_time": "2025-08-12T17:52:41.517350Z"
    }
   },
   "cell_type": "code",
   "source": [
    "a -= 2 # similar to a = a +2\n",
    "a *=2\n",
    "a /= 2\n",
    "a %= 2\n",
    "a **= 2"
   ],
   "id": "4f07ccdc317e902",
   "outputs": [],
   "execution_count": 41
  }
 ],
 "metadata": {
  "kernelspec": {
   "display_name": "Python 3",
   "language": "python",
   "name": "python3"
  },
  "language_info": {
   "codemirror_mode": {
    "name": "ipython",
    "version": 2
   },
   "file_extension": ".py",
   "mimetype": "text/x-python",
   "name": "python",
   "nbconvert_exporter": "python",
   "pygments_lexer": "ipython2",
   "version": "2.7.6"
  }
 },
 "nbformat": 4,
 "nbformat_minor": 5
}
