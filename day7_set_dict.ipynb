{
 "cells": [
  {
   "cell_type": "markdown",
   "id": "3bbc5118",
   "metadata": {},
   "source": [
    "# Mathematical Set Operation"
   ]
  },
  {
   "cell_type": "markdown",
   "id": "3799b1de",
   "metadata": {},
   "source": [
    "- Union\n",
    "- intersection\n",
    "- difference\n",
    "- symmectric difference"
   ]
  },
  {
   "cell_type": "code",
   "execution_count": 1,
   "id": "22b555fb",
   "metadata": {},
   "outputs": [
    {
     "name": "stdout",
     "output_type": "stream",
     "text": [
      "{1, 2, 3, 4, 5} {4, 5, 6, 7}\n"
     ]
    }
   ],
   "source": [
    "s1 = {1, 2, 3, 4, 5}\n",
    "s2 = {4, 5, 6, 7}\n",
    "print(s1, s2)"
   ]
  },
  {
   "cell_type": "code",
   "execution_count": 5,
   "id": "fa13b7a2",
   "metadata": {},
   "outputs": [
    {
     "name": "stdout",
     "output_type": "stream",
     "text": [
      "{1, 2, 3, 4, 5, 6, 7}\n",
      "{1, 2, 3, 4, 5, 6, 7}\n"
     ]
    }
   ],
   "source": [
    "print(s1 | s2)\n",
    "print(s1.union(s2))"
   ]
  },
  {
   "cell_type": "code",
   "execution_count": 6,
   "id": "a597e918",
   "metadata": {},
   "outputs": [
    {
     "name": "stdout",
     "output_type": "stream",
     "text": [
      "{4, 5}\n",
      "{4, 5}\n"
     ]
    }
   ],
   "source": [
    "print(s1 & s2)\n",
    "print(s1.intersection(s2))"
   ]
  },
  {
   "cell_type": "code",
   "execution_count": 9,
   "id": "96be7314",
   "metadata": {},
   "outputs": [
    {
     "name": "stdout",
     "output_type": "stream",
     "text": [
      "{1, 2, 3}\n",
      "{6, 7}\n"
     ]
    }
   ],
   "source": [
    "print(s1-s2)\n",
    "print(s2 - s1)"
   ]
  },
  {
   "cell_type": "code",
   "execution_count": 10,
   "id": "8ac2e795",
   "metadata": {},
   "outputs": [
    {
     "name": "stdout",
     "output_type": "stream",
     "text": [
      "{1, 2, 3}\n",
      "{6, 7}\n"
     ]
    }
   ],
   "source": [
    "print(s1.difference(s2))\n",
    "print(s2.difference(s1))"
   ]
  },
  {
   "cell_type": "code",
   "execution_count": 11,
   "id": "68059aa3",
   "metadata": {},
   "outputs": [
    {
     "name": "stdout",
     "output_type": "stream",
     "text": [
      "{1, 2, 3, 6, 7}\n"
     ]
    }
   ],
   "source": [
    "print(s1.symmetric_difference(s2))"
   ]
  },
  {
   "cell_type": "code",
   "execution_count": null,
   "id": "dfba2acc",
   "metadata": {},
   "outputs": [
    {
     "name": "stdout",
     "output_type": "stream",
     "text": [
      "{1, 2, 3, 6, 7}\n"
     ]
    }
   ],
   "source": [
    "print(s1 ^ s2) #^ : caret"
   ]
  },
  {
   "cell_type": "code",
   "execution_count": 13,
   "id": "8e0fbbeb",
   "metadata": {},
   "outputs": [],
   "source": [
    "s1.symmetric_difference_update(s2)"
   ]
  },
  {
   "cell_type": "code",
   "execution_count": 14,
   "id": "0cb5eefc",
   "metadata": {},
   "outputs": [
    {
     "data": {
      "text/plain": [
       "{1, 2, 3, 6, 7}"
      ]
     },
     "execution_count": 14,
     "metadata": {},
     "output_type": "execute_result"
    }
   ],
   "source": [
    "s1"
   ]
  },
  {
   "cell_type": "code",
   "execution_count": 15,
   "id": "deba6fff",
   "metadata": {},
   "outputs": [
    {
     "name": "stdout",
     "output_type": "stream",
     "text": [
      "{1, 2, 3}\n"
     ]
    }
   ],
   "source": [
    "s1.difference_update(s2)\n",
    "print(s1)"
   ]
  },
  {
   "cell_type": "code",
   "execution_count": null,
   "id": "d9746797",
   "metadata": {},
   "outputs": [
    {
     "ename": "TypeError",
     "evalue": "unhashable type: 'set'",
     "output_type": "error",
     "traceback": [
      "\u001b[31m---------------------------------------------------------------------------\u001b[39m",
      "\u001b[31mTypeError\u001b[39m                                 Traceback (most recent call last)",
      "\u001b[36mCell\u001b[39m\u001b[36m \u001b[39m\u001b[32mIn[16]\u001b[39m\u001b[32m, line 1\u001b[39m\n\u001b[32m----> \u001b[39m\u001b[32m1\u001b[39m s4 = {\u001b[32m1\u001b[39m, \u001b[32m2\u001b[39m,\u001b[32m3\u001b[39m, \u001b[32m4\u001b[39m, {\u001b[32m7\u001b[39m, \u001b[32m8\u001b[39m}}\n",
      "\u001b[31mTypeError\u001b[39m: unhashable type: 'set'"
     ]
    }
   ],
   "source": [
    "s4 = {1, 2, 3, 4, {7, 8}}"
   ]
  },
  {
   "cell_type": "code",
   "execution_count": 17,
   "id": "a261ddd5",
   "metadata": {},
   "outputs": [
    {
     "name": "stdout",
     "output_type": "stream",
     "text": [
      "{1, 2, 3, 4}\n",
      "1 2 3 4\n"
     ]
    }
   ],
   "source": [
    "#unpacking\n",
    "s = {1 ,2, 3, 4}\n",
    "print(s)\n",
    "print(*s)"
   ]
  },
  {
   "cell_type": "code",
   "execution_count": null,
   "id": "010905fd",
   "metadata": {},
   "outputs": [],
   "source": [
    "p = {\"Alice\", 20, \"Pune\"}"
   ]
  },
  {
   "cell_type": "markdown",
   "id": "60510b87",
   "metadata": {},
   "source": [
    "## Dictionary in Python"
   ]
  },
  {
   "cell_type": "code",
   "execution_count": 19,
   "id": "c3962af2",
   "metadata": {},
   "outputs": [
    {
     "name": "stdout",
     "output_type": "stream",
     "text": [
      "{} <class 'dict'>\n"
     ]
    }
   ],
   "source": [
    "#Emty dictionary\n",
    "d = {}\n",
    "print(d, type(d))"
   ]
  },
  {
   "cell_type": "code",
   "execution_count": 20,
   "id": "d6be8ab8",
   "metadata": {},
   "outputs": [
    {
     "name": "stdout",
     "output_type": "stream",
     "text": [
      "{'name': 'Alice', 'age': 29, 'city': 'Pune'}\n"
     ]
    }
   ],
   "source": [
    "d = {\n",
    "    \"name\": \"Alice\",\n",
    "    \"age\": 29,\n",
    "    \"city\": \"Pune\"\n",
    "}\n",
    "\n",
    "print(d)"
   ]
  },
  {
   "cell_type": "code",
   "execution_count": 22,
   "id": "1dcf0f74",
   "metadata": {},
   "outputs": [
    {
     "name": "stdout",
     "output_type": "stream",
     "text": [
      "{'A': 20, 'B': 25}\n"
     ]
    }
   ],
   "source": [
    "d = {\"A\" : 10, \"A\": 20, \"B\" : 25}\n",
    "print(d)"
   ]
  },
  {
   "cell_type": "code",
   "execution_count": 27,
   "id": "ab56c486",
   "metadata": {},
   "outputs": [
    {
     "name": "stdout",
     "output_type": "stream",
     "text": [
      "{None: 23, 34: None, 20: '10'}\n"
     ]
    }
   ],
   "source": [
    "d = {None : \"Test\", 34: None, 20 : \"10\", None : 23}\n",
    "print(d)"
   ]
  },
  {
   "cell_type": "markdown",
   "id": "3643f2bb",
   "metadata": {},
   "source": [
    "### Fetching data from a dict"
   ]
  },
  {
   "cell_type": "code",
   "execution_count": 32,
   "id": "2230cd24",
   "metadata": {},
   "outputs": [
    {
     "name": "stdout",
     "output_type": "stream",
     "text": [
      "{'name': 'Alice', 'age': 29, 'city': 'Pune'}\n",
      "Alice\n",
      "29\n",
      "Alice\n",
      "Pune\n"
     ]
    }
   ],
   "source": [
    "d = {\n",
    "    \"name\": \"Alice\",\n",
    "    \"age\": 29,\n",
    "    \"city\": \"Pune\"\n",
    "}\n",
    "\n",
    "print(d)\n",
    "print(d[\"name\"])\n",
    "print(d[\"age\"])\n",
    "print(d.get(\"name\"))\n",
    "print(d.get(\"city\"))"
   ]
  },
  {
   "cell_type": "markdown",
   "id": "829dc340",
   "metadata": {},
   "source": [
    "### Indserting data in dict"
   ]
  },
  {
   "cell_type": "code",
   "execution_count": 33,
   "id": "e4489dce",
   "metadata": {},
   "outputs": [
    {
     "data": {
      "text/plain": [
       "{'name': 'Alice', 'age': 29, 'city': 'Pune'}"
      ]
     },
     "execution_count": 33,
     "metadata": {},
     "output_type": "execute_result"
    }
   ],
   "source": [
    "d"
   ]
  },
  {
   "cell_type": "code",
   "execution_count": 34,
   "id": "9002bf76",
   "metadata": {},
   "outputs": [
    {
     "name": "stdout",
     "output_type": "stream",
     "text": [
      "{'name': 'Alice', 'age': 29, 'city': 'Pune', 'mobile': 909923475}\n"
     ]
    }
   ],
   "source": [
    "d[\"mobile\"] = 909923475\n",
    "print(d)"
   ]
  },
  {
   "cell_type": "code",
   "execution_count": 35,
   "id": "595944c0",
   "metadata": {},
   "outputs": [
    {
     "name": "stdout",
     "output_type": "stream",
     "text": [
      "dict_items([('name', 'Alice'), ('age', 29), ('city', 'Pune'), ('mobile', 909923475)])\n"
     ]
    }
   ],
   "source": [
    "print(d.items())"
   ]
  },
  {
   "cell_type": "code",
   "execution_count": 40,
   "id": "ec126799",
   "metadata": {},
   "outputs": [
    {
     "name": "stdout",
     "output_type": "stream",
     "text": [
      "dict_keys(['name', 'age', 'city', 'mobile'])\n",
      "name\n",
      "age\n",
      "city\n",
      "mobile\n"
     ]
    }
   ],
   "source": [
    "print(d.keys())\n",
    "for i in d.keys():\n",
    "    print(i)"
   ]
  },
  {
   "cell_type": "code",
   "execution_count": 37,
   "id": "fd93128b",
   "metadata": {},
   "outputs": [
    {
     "name": "stdout",
     "output_type": "stream",
     "text": [
      "dict_values(['Alice', 29, 'Pune', 909923475])\n"
     ]
    }
   ],
   "source": [
    "print(d.values())"
   ]
  },
  {
   "cell_type": "markdown",
   "id": "dc601c24",
   "metadata": {},
   "source": [
    "### For loop in Dict"
   ]
  },
  {
   "cell_type": "code",
   "execution_count": 38,
   "id": "36f6ac82",
   "metadata": {},
   "outputs": [
    {
     "name": "stdout",
     "output_type": "stream",
     "text": [
      "name\n",
      "age\n",
      "city\n",
      "mobile\n"
     ]
    }
   ],
   "source": [
    "l = ['name', 'age', 'city', 'mobile']\n",
    "\n",
    "for i in l:\n",
    "    print(i)"
   ]
  },
  {
   "cell_type": "code",
   "execution_count": null,
   "id": "8e1076a2",
   "metadata": {},
   "outputs": [
    {
     "name": "stdout",
     "output_type": "stream",
     "text": [
      "name Alice\n",
      "age 29\n",
      "city Pune\n",
      "mobile 909923475\n"
     ]
    }
   ],
   "source": [
    "for k in d.keys(): \n",
    "    print(k, d.get(k))"
   ]
  },
  {
   "cell_type": "code",
   "execution_count": 41,
   "id": "41c70862",
   "metadata": {},
   "outputs": [
    {
     "name": "stdout",
     "output_type": "stream",
     "text": [
      "name Alice\n",
      "age 29\n",
      "city Pune\n",
      "mobile 909923475\n"
     ]
    }
   ],
   "source": [
    "for k in d.keys(): \n",
    "    print(k, d[k])"
   ]
  },
  {
   "cell_type": "code",
   "execution_count": 42,
   "id": "b0cf67f6",
   "metadata": {},
   "outputs": [
    {
     "data": {
      "text/plain": [
       "dict_items([('name', 'Alice'), ('age', 29), ('city', 'Pune'), ('mobile', 909923475)])"
      ]
     },
     "execution_count": 42,
     "metadata": {},
     "output_type": "execute_result"
    }
   ],
   "source": [
    "d.items()"
   ]
  },
  {
   "cell_type": "code",
   "execution_count": null,
   "id": "ae3e6942",
   "metadata": {},
   "outputs": [
    {
     "name": "stdout",
     "output_type": "stream",
     "text": [
      "name Alice\n",
      "age 29\n",
      "city Pune\n",
      "mobile 909923475\n"
     ]
    }
   ],
   "source": [
    "for k, v in d.items():\n",
    "    print(k, v)"
   ]
  }
 ],
 "metadata": {
  "kernelspec": {
   "display_name": ".venv",
   "language": "python",
   "name": "python3"
  },
  "language_info": {
   "codemirror_mode": {
    "name": "ipython",
    "version": 3
   },
   "file_extension": ".py",
   "mimetype": "text/x-python",
   "name": "python",
   "nbconvert_exporter": "python",
   "pygments_lexer": "ipython3",
   "version": "3.13.3"
  }
 },
 "nbformat": 4,
 "nbformat_minor": 5
}
