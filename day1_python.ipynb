{
 "cells": [
  {
   "cell_type": "markdown",
   "id": "79abe56117a764b3",
   "metadata": {},
   "source": [
    "## Python Tutorial"
   ]
  },
  {
   "cell_type": "markdown",
   "id": "53725c77538731ca",
   "metadata": {},
   "source": [
    "#### Variable\n",
    " - variables like a container\n",
    "    - String\n",
    "    - integer\n",
    "    - float\n",
    "    - complex(10 + 3j = 20)\n",
    "    - boolean"
   ]
  },
  {
   "cell_type": "markdown",
   "id": "8433849b7dd5744a",
   "metadata": {},
   "source": [
    "### Identifier\n",
    " - An identifier is a name of variable/class/function/module\n",
    "\n",
    "### Rules\n",
    " - can't start with number(1abc)\n",
    "  - space can not be used\n",
    "  - _, $ other than of these are not allowed"
   ]
  },
  {
   "cell_type": "code",
   "execution_count": 1,
   "id": "initial_id",
   "metadata": {
    "ExecuteTime": {
     "end_time": "2025-08-12T16:56:04.687514Z",
     "start_time": "2025-08-12T16:56:04.631071Z"
    },
    "collapsed": true
   },
   "outputs": [
    {
     "name": "stdout",
     "output_type": "stream",
     "text": [
      "Hello World\n"
     ]
    }
   ],
   "source": [
    "import keyword\n",
    "\n",
    "#Variable\n",
    "print('Hello World')"
   ]
  },
  {
   "cell_type": "code",
   "execution_count": 2,
   "id": "8eacbd3ae60a737c",
   "metadata": {
    "ExecuteTime": {
     "end_time": "2025-08-12T16:56:04.937149Z",
     "start_time": "2025-08-12T16:56:04.929647Z"
    }
   },
   "outputs": [
    {
     "name": "stdout",
     "output_type": "stream",
     "text": [
      "Welcome to Python Tutorial\n"
     ]
    }
   ],
   "source": [
    "print(\"Welcome to Python Tutorial\")"
   ]
  },
  {
   "cell_type": "code",
   "execution_count": 3,
   "id": "594393fa74e34d20",
   "metadata": {
    "ExecuteTime": {
     "end_time": "2025-08-12T16:56:05.033684Z",
     "start_time": "2025-08-12T16:56:05.029158Z"
    }
   },
   "outputs": [
    {
     "name": "stdout",
     "output_type": "stream",
     "text": [
      "10 <class 'int'>\n"
     ]
    }
   ],
   "source": [
    "a = 10\n",
    "print(a, type(a))"
   ]
  },
  {
   "cell_type": "code",
   "execution_count": 4,
   "id": "e6a3580dcd569f9",
   "metadata": {
    "ExecuteTime": {
     "end_time": "2025-08-12T16:56:05.190824Z",
     "start_time": "2025-08-12T16:56:05.108242Z"
    }
   },
   "outputs": [
    {
     "name": "stdout",
     "output_type": "stream",
     "text": [
      "Python <class 'str'>\n",
      "100 <class 'str'>\n",
      "\n",
      "This is line1\n",
      "This is line2\n",
      " <class 'str'>\n",
      "\n",
      "14324\n",
      "sfgsgdfg\n",
      "*&^@#&R^\n",
      " <class 'str'>\n"
     ]
    }
   ],
   "source": [
    "#Dynamically typed language\n",
    "a = \"Python\"\n",
    "b = '100'\n",
    "c = \"\"\"\n",
    "This is line1\n",
    "This is line2\n",
    "\"\"\"\n",
    "d = '''\n",
    "14324\n",
    "sfgsgdfg\n",
    "*&^@#&R^\n",
    "'''\n",
    "print(a, type(a))\n",
    "print(b, type(b))\n",
    "print(c, type(c))\n",
    "print(d, type(d))"
   ]
  },
  {
   "cell_type": "code",
   "execution_count": 5,
   "id": "b2f49d5ecdacc0b0",
   "metadata": {
    "ExecuteTime": {
     "end_time": "2025-08-12T16:56:05.258221Z",
     "start_time": "2025-08-12T16:56:05.252874Z"
    }
   },
   "outputs": [
    {
     "name": "stdout",
     "output_type": "stream",
     "text": [
      "10.23 <class 'float'>\n"
     ]
    }
   ],
   "source": [
    "a = 10.23\n",
    "print(a, type(a))"
   ]
  },
  {
   "cell_type": "code",
   "execution_count": 6,
   "id": "62ae1ce95f3e1c9a",
   "metadata": {
    "ExecuteTime": {
     "end_time": "2025-08-12T16:56:05.310748Z",
     "start_time": "2025-08-12T16:56:05.304917Z"
    }
   },
   "outputs": [
    {
     "name": "stdout",
     "output_type": "stream",
     "text": [
      "0\n",
      "Hello\n",
      "1\n",
      "Hello\n",
      "2\n",
      "Hello\n",
      "3\n",
      "Hello\n",
      "4\n",
      "Hello\n",
      "5\n",
      "Hello\n",
      "6\n",
      "Hello\n",
      "7\n",
      "Hello\n",
      "8\n",
      "Hello\n",
      "9\n",
      "Hello\n",
      "0\n",
      "1\n",
      "2\n",
      "3\n",
      "4\n",
      "5\n",
      "6\n",
      "7\n",
      "8\n",
      "9\n"
     ]
    }
   ],
   "source": [
    "#identation: 2 space/4 space\n",
    "a =10\n",
    "b =10\n",
    "for i in range(10):\n",
    "  print(i)\n",
    "  print(\"Hello\")\n",
    "\n",
    "for i in range(10):\n",
    "    print(i)"
   ]
  },
  {
   "cell_type": "code",
   "execution_count": 7,
   "id": "39528df8ba77c5da",
   "metadata": {
    "ExecuteTime": {
     "end_time": "2025-08-12T16:56:05.420502Z",
     "start_time": "2025-08-12T16:56:05.411562Z"
    }
   },
   "outputs": [
    {
     "name": "stdout",
     "output_type": "stream",
     "text": [
      "100 <class 'int'>\n"
     ]
    }
   ],
   "source": [
    " # Comments  -- > single line comment\n",
    " # Another comment\n",
    "#By using triple quotes(mainly used for docstrings)\n",
    "\"\"\"\n",
    "line 1\n",
    "line 2\n",
    "line 3\n",
    "\"\"\"\n",
    "\n",
    "a = 100\n",
    "print(a, type(a))"
   ]
  },
  {
   "cell_type": "markdown",
   "id": "c5ab876f384fe2a",
   "metadata": {},
   "source": [
    "### Keywords\n",
    " - Keywords are nothing but reserved words which is internally used by the programming language, which can not be used as an identifier"
   ]
  },
  {
   "cell_type": "code",
   "execution_count": 8,
   "id": "c54b9aabb71d589c",
   "metadata": {
    "ExecuteTime": {
     "end_time": "2025-08-12T16:56:05.504361Z",
     "start_time": "2025-08-12T16:56:05.496583Z"
    }
   },
   "outputs": [
    {
     "name": "stdout",
     "output_type": "stream",
     "text": [
      "['False', 'None', 'True', 'and', 'as', 'assert', 'async', 'await', 'break', 'class', 'continue', 'def', 'del', 'elif', 'else', 'except', 'finally', 'for', 'from', 'global', 'if', 'import', 'in', 'is', 'lambda', 'nonlocal', 'not', 'or', 'pass', 'raise', 'return', 'try', 'while', 'with', 'yield']\n"
     ]
    }
   ],
   "source": [
    "import keyword\n",
    "\n",
    "print(keyword.kwlist)"
   ]
  },
  {
   "cell_type": "code",
   "execution_count": 9,
   "id": "39f39a2205da842b",
   "metadata": {
    "ExecuteTime": {
     "end_time": "2025-08-12T16:56:05.547148Z",
     "start_time": "2025-08-12T16:56:05.543346Z"
    }
   },
   "outputs": [],
   "source": [
    "# while = 10 you can not use"
   ]
  },
  {
   "cell_type": "code",
   "execution_count": 10,
   "id": "4131351a26404510",
   "metadata": {
    "ExecuteTime": {
     "end_time": "2025-08-12T16:56:05.619558Z",
     "start_time": "2025-08-12T16:56:05.583162Z"
    }
   },
   "outputs": [
    {
     "name": "stdout",
     "output_type": "stream",
     "text": [
      "False <class 'bool'>\n",
      "10 <class 'int'>\n"
     ]
    }
   ],
   "source": [
    "#Boolean type of data\n",
    "a = False\n",
    "A = 10\n",
    "print(a, type(a))\n",
    "print(A, type(A))"
   ]
  },
  {
   "cell_type": "code",
   "execution_count": 11,
   "id": "1c4d9a63c0e978df",
   "metadata": {
    "ExecuteTime": {
     "end_time": "2025-08-12T16:56:05.655074Z",
     "start_time": "2025-08-12T16:56:05.648167Z"
    }
   },
   "outputs": [
    {
     "name": "stdout",
     "output_type": "stream",
     "text": [
      "140717192455368 140717191569872\n"
     ]
    }
   ],
   "source": [
    "print(id(A), id(a))"
   ]
  },
  {
   "cell_type": "code",
   "execution_count": 12,
   "id": "d1b29f769a645a82",
   "metadata": {
    "ExecuteTime": {
     "end_time": "2025-08-12T16:56:05.691047Z",
     "start_time": "2025-08-12T16:56:05.683477Z"
    }
   },
   "outputs": [
    {
     "name": "stdout",
     "output_type": "stream",
     "text": [
      "10 140717192455368\n"
     ]
    }
   ],
   "source": [
    "a = 10\n",
    "b = 10\n",
    "print(b, id(b))"
   ]
  },
  {
   "cell_type": "code",
   "execution_count": 13,
   "id": "4eae953b78a6768f",
   "metadata": {
    "ExecuteTime": {
     "end_time": "2025-08-12T16:56:05.742054Z",
     "start_time": "2025-08-12T16:56:05.734825Z"
    }
   },
   "outputs": [
    {
     "name": "stdout",
     "output_type": "stream",
     "text": [
      "True\n",
      "True\n"
     ]
    }
   ],
   "source": [
    "print(a == b)\n",
    "print(a is b)"
   ]
  },
  {
   "cell_type": "code",
   "execution_count": 14,
   "id": "15c80f6e70f7d09f",
   "metadata": {
    "ExecuteTime": {
     "end_time": "2025-08-12T16:59:05.423875Z",
     "start_time": "2025-08-12T16:59:05.418598Z"
    }
   },
   "outputs": [
    {
     "name": "stdout",
     "output_type": "stream",
     "text": [
      "10 12\n"
     ]
    }
   ],
   "source": [
    "a = 10; b = 12\n",
    "print(a, b)"
   ]
  },
  {
   "cell_type": "code",
   "execution_count": 17,
   "id": "7a8fd0cb7e556f4b",
   "metadata": {
    "ExecuteTime": {
     "end_time": "2025-08-12T17:00:20.848551Z",
     "start_time": "2025-08-12T17:00:20.842886Z"
    }
   },
   "outputs": [
    {
     "name": "stdout",
     "output_type": "stream",
     "text": [
      "10 12 15\n"
     ]
    }
   ],
   "source": [
    "a; b; c = 15\n",
    "print(a, b, c)"
   ]
  },
  {
   "cell_type": "code",
   "execution_count": 18,
   "id": "c7594c05a0531ad9",
   "metadata": {
    "ExecuteTime": {
     "end_time": "2025-08-12T17:00:51.920400Z",
     "start_time": "2025-08-12T17:00:51.914373Z"
    }
   },
   "outputs": [
    {
     "name": "stdout",
     "output_type": "stream",
     "text": [
      "10 20 15\n"
     ]
    }
   ],
   "source": [
    "a; b = 20; c = 15\n",
    "print(a, b, c)"
   ]
  },
  {
   "cell_type": "code",
   "execution_count": 19,
   "id": "d15ba31566d58d5d",
   "metadata": {
    "ExecuteTime": {
     "end_time": "2025-08-12T17:01:13.731585Z",
     "start_time": "2025-08-12T17:01:13.725283Z"
    }
   },
   "outputs": [
    {
     "name": "stdout",
     "output_type": "stream",
     "text": [
      "15 15 15\n"
     ]
    }
   ],
   "source": [
    "a = b = c = 15\n",
    "print(a, b, c)"
   ]
  },
  {
   "cell_type": "code",
   "execution_count": 21,
   "id": "5b51ababdf0313fe",
   "metadata": {
    "ExecuteTime": {
     "end_time": "2025-08-12T17:02:22.693734Z",
     "start_time": "2025-08-12T17:02:22.689924Z"
    }
   },
   "outputs": [
    {
     "name": "stdout",
     "output_type": "stream",
     "text": [
      "Python 20.022 15\n"
     ]
    }
   ],
   "source": [
    "a, b, c = 'Python', 20.022, 15\n",
    "print(a, b, c)"
   ]
  }
 ],
 "metadata": {
  "kernelspec": {
   "display_name": ".venv",
   "language": "python",
   "name": "python3"
  },
  "language_info": {
   "codemirror_mode": {
    "name": "ipython",
    "version": 3
   },
   "file_extension": ".py",
   "mimetype": "text/x-python",
   "name": "python",
   "nbconvert_exporter": "python",
   "pygments_lexer": "ipython3",
   "version": "3.13.3"
  }
 },
 "nbformat": 4,
 "nbformat_minor": 5
}
