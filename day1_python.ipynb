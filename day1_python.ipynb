{
 "cells": [
  {
   "metadata": {},
   "cell_type": "markdown",
   "source": "## Python Tutorial",
   "id": "79abe56117a764b3"
  },
  {
   "metadata": {},
   "cell_type": "markdown",
   "source": [
    "#### Variable\n",
    " - variables like a container\n",
    "    - String\n",
    "    - integer\n",
    "    - float\n",
    "    - complex(10 + 3j = 20)\n",
    "    - boolean"
   ],
   "id": "53725c77538731ca"
  },
  {
   "metadata": {},
   "cell_type": "markdown",
   "source": [
    "### Identifier\n",
    " - An identifier is a name of variable/class/function/module\n",
    "\n",
    "### Rules\n",
    " - can't start with number(1abc)\n",
    "  - space can not be used\n",
    "  - _, $ other than of these are not allowed"
   ],
   "id": "8433849b7dd5744a"
  },
  {
   "cell_type": "code",
   "id": "initial_id",
   "metadata": {
    "collapsed": true,
    "ExecuteTime": {
     "end_time": "2025-08-11T17:20:23.241706Z",
     "start_time": "2025-08-11T17:20:23.230546Z"
    }
   },
   "source": [
    "import keyword\n",
    "\n",
    "#Variable\n",
    "print('Hello World')"
   ],
   "outputs": [
    {
     "name": "stdout",
     "output_type": "stream",
     "text": [
      "Hello World\n"
     ]
    }
   ],
   "execution_count": 2
  },
  {
   "metadata": {
    "ExecuteTime": {
     "end_time": "2025-08-11T17:21:55.622720Z",
     "start_time": "2025-08-11T17:21:55.618162Z"
    }
   },
   "cell_type": "code",
   "source": "print(\"Welcome to Python Tutorial\")",
   "id": "8eacbd3ae60a737c",
   "outputs": [
    {
     "name": "stdout",
     "output_type": "stream",
     "text": [
      "Welcome to Python Tutorial\n"
     ]
    }
   ],
   "execution_count": 3
  },
  {
   "metadata": {
    "ExecuteTime": {
     "end_time": "2025-08-11T17:26:08.148477Z",
     "start_time": "2025-08-11T17:26:08.142798Z"
    }
   },
   "cell_type": "code",
   "source": [
    "a = 10\n",
    "print(a, type(a))"
   ],
   "id": "594393fa74e34d20",
   "outputs": [
    {
     "name": "stdout",
     "output_type": "stream",
     "text": [
      "10 <class 'int'>\n"
     ]
    }
   ],
   "execution_count": 8
  },
  {
   "metadata": {
    "ExecuteTime": {
     "end_time": "2025-08-11T17:29:51.057877Z",
     "start_time": "2025-08-11T17:29:51.050581Z"
    }
   },
   "cell_type": "code",
   "source": [
    "#Dynamically typed language\n",
    "a = \"Python\"\n",
    "b = '100'\n",
    "c = \"\"\"\n",
    "This is line1\n",
    "This is line2\n",
    "\"\"\"\n",
    "d = '''\n",
    "14324\n",
    "sfgsgdfg\n",
    "*&^@#&R^\n",
    "'''\n",
    "print(a, type(a))\n",
    "print(b, type(b))\n",
    "print(c, type(c))\n",
    "print(d, type(d))"
   ],
   "id": "e6a3580dcd569f9",
   "outputs": [
    {
     "name": "stdout",
     "output_type": "stream",
     "text": [
      "Python <class 'str'>\n",
      "100 <class 'str'>\n",
      "\n",
      "This is line1\n",
      "This is line2\n",
      " <class 'str'>\n",
      "\n",
      "14324 \n",
      "sfgsgdfg\n",
      "*&^@#&R^\n",
      " <class 'str'>\n"
     ]
    }
   ],
   "execution_count": 13
  },
  {
   "metadata": {
    "ExecuteTime": {
     "end_time": "2025-08-11T17:30:23.729926Z",
     "start_time": "2025-08-11T17:30:23.725269Z"
    }
   },
   "cell_type": "code",
   "source": [
    "a = 10.23\n",
    "print(a, type(a))"
   ],
   "id": "b2f49d5ecdacc0b0",
   "outputs": [
    {
     "name": "stdout",
     "output_type": "stream",
     "text": [
      "10.23 <class 'float'>\n"
     ]
    }
   ],
   "execution_count": 14
  },
  {
   "metadata": {
    "ExecuteTime": {
     "end_time": "2025-08-11T17:41:34.201389Z",
     "start_time": "2025-08-11T17:41:34.194223Z"
    }
   },
   "cell_type": "code",
   "source": [
    "#identation: 2 space/4 space\n",
    "a =10\n",
    "b =10\n",
    "for i in range(10):\n",
    "  print(i)\n",
    "  print(\"Hello\")\n",
    "\n",
    "for i in range(10):\n",
    "    print(i)"
   ],
   "id": "62ae1ce95f3e1c9a",
   "outputs": [
    {
     "name": "stdout",
     "output_type": "stream",
     "text": [
      "0\n",
      "Hello\n",
      "1\n",
      "Hello\n",
      "2\n",
      "Hello\n",
      "3\n",
      "Hello\n",
      "4\n",
      "Hello\n",
      "5\n",
      "Hello\n",
      "6\n",
      "Hello\n",
      "7\n",
      "Hello\n",
      "8\n",
      "Hello\n",
      "9\n",
      "Hello\n",
      "0\n",
      "1\n",
      "2\n",
      "3\n",
      "4\n",
      "5\n",
      "6\n",
      "7\n",
      "8\n",
      "9\n"
     ]
    }
   ],
   "execution_count": 24
  },
  {
   "metadata": {
    "ExecuteTime": {
     "end_time": "2025-08-11T17:50:52.847956Z",
     "start_time": "2025-08-11T17:50:52.843593Z"
    }
   },
   "cell_type": "code",
   "source": [
    " # Comments  -- > single line comment\n",
    " # Another comment\n",
    "#By using triple quotes(mainly used for docstrings)\n",
    "\"\"\"\n",
    "line 1\n",
    "line 2\n",
    "line 3\n",
    "\"\"\"\n",
    "\n",
    "a = 100\n",
    "print(a, type(a))"
   ],
   "id": "39528df8ba77c5da",
   "outputs": [
    {
     "name": "stdout",
     "output_type": "stream",
     "text": [
      "100 <class 'int'>\n"
     ]
    }
   ],
   "execution_count": 27
  },
  {
   "metadata": {},
   "cell_type": "markdown",
   "source": [
    "### Keywords\n",
    " - Keywords are nothing but reserved words which is internally used by the programming language, which can not be used as an identifier"
   ],
   "id": "c5ab876f384fe2a"
  },
  {
   "metadata": {
    "ExecuteTime": {
     "end_time": "2025-08-11T17:52:38.320474Z",
     "start_time": "2025-08-11T17:52:38.315717Z"
    }
   },
   "cell_type": "code",
   "source": [
    "import keyword\n",
    "\n",
    "print(keyword.kwlist)"
   ],
   "id": "c54b9aabb71d589c",
   "outputs": [
    {
     "name": "stdout",
     "output_type": "stream",
     "text": [
      "['False', 'None', 'True', 'and', 'as', 'assert', 'async', 'await', 'break', 'class', 'continue', 'def', 'del', 'elif', 'else', 'except', 'finally', 'for', 'from', 'global', 'if', 'import', 'in', 'is', 'lambda', 'nonlocal', 'not', 'or', 'pass', 'raise', 'return', 'try', 'while', 'with', 'yield']\n"
     ]
    }
   ],
   "execution_count": 30
  },
  {
   "metadata": {
    "ExecuteTime": {
     "end_time": "2025-08-11T17:53:43.076152Z",
     "start_time": "2025-08-11T17:53:43.071634Z"
    }
   },
   "cell_type": "code",
   "source": "# while = 10 you can not use",
   "id": "39f39a2205da842b",
   "outputs": [],
   "execution_count": 31
  },
  {
   "metadata": {
    "ExecuteTime": {
     "end_time": "2025-08-11T17:55:50.094191Z",
     "start_time": "2025-08-11T17:55:50.089673Z"
    }
   },
   "cell_type": "code",
   "source": [
    "#Boolean type of data\n",
    "a = False\n",
    "A = 10\n",
    "print(a, type(a))\n",
    "print(A, type(A))"
   ],
   "id": "4131351a26404510",
   "outputs": [
    {
     "name": "stdout",
     "output_type": "stream",
     "text": [
      "False <class 'bool'>\n",
      "10 <class 'int'>\n"
     ]
    }
   ],
   "execution_count": 34
  },
  {
   "metadata": {
    "ExecuteTime": {
     "end_time": "2025-08-11T17:58:55.611272Z",
     "start_time": "2025-08-11T17:58:55.606268Z"
    }
   },
   "cell_type": "code",
   "source": "print(id(A), id(a))",
   "id": "1c4d9a63c0e978df",
   "outputs": [
    {
     "name": "stdout",
     "output_type": "stream",
     "text": [
      "140718188471496 140718187586000\n"
     ]
    }
   ],
   "execution_count": 35
  },
  {
   "metadata": {
    "ExecuteTime": {
     "end_time": "2025-08-11T18:24:15.216765Z",
     "start_time": "2025-08-11T18:24:15.210594Z"
    }
   },
   "cell_type": "code",
   "source": [
    "a = 10\n",
    "b = 10\n",
    "print(b, id(b))"
   ],
   "id": "d1b29f769a645a82",
   "outputs": [
    {
     "name": "stdout",
     "output_type": "stream",
     "text": [
      "10 140718188471496\n"
     ]
    }
   ],
   "execution_count": 42
  },
  {
   "metadata": {
    "ExecuteTime": {
     "end_time": "2025-08-11T18:24:18.042140Z",
     "start_time": "2025-08-11T18:24:18.037774Z"
    }
   },
   "cell_type": "code",
   "source": [
    "print(a == b)\n",
    "print(a is b)"
   ],
   "id": "4eae953b78a6768f",
   "outputs": [
    {
     "name": "stdout",
     "output_type": "stream",
     "text": [
      "True\n",
      "True\n"
     ]
    }
   ],
   "execution_count": 43
  }
 ],
 "metadata": {
  "kernelspec": {
   "display_name": "Python 3",
   "language": "python",
   "name": "python3"
  },
  "language_info": {
   "codemirror_mode": {
    "name": "ipython",
    "version": 2
   },
   "file_extension": ".py",
   "mimetype": "text/x-python",
   "name": "python",
   "nbconvert_exporter": "python",
   "pygments_lexer": "ipython2",
   "version": "2.7.6"
  }
 },
 "nbformat": 4,
 "nbformat_minor": 5
}
